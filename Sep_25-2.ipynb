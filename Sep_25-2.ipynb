{
 "cells": [
  {
   "cell_type": "code",
   "execution_count": 5,
   "metadata": {},
   "outputs": [],
   "source": [
    "import pandas as pd\n",
    "from pathlib import Path\n",
    "%matplotlib inline"
   ]
  },
  {
   "cell_type": "code",
   "execution_count": 24,
   "metadata": {},
   "outputs": [
    {
     "data": {
      "text/html": [
       "<div>\n",
       "<style scoped>\n",
       "    .dataframe tbody tr th:only-of-type {\n",
       "        vertical-align: middle;\n",
       "    }\n",
       "\n",
       "    .dataframe tbody tr th {\n",
       "        vertical-align: top;\n",
       "    }\n",
       "\n",
       "    .dataframe thead th {\n",
       "        text-align: right;\n",
       "    }\n",
       "</style>\n",
       "<table border=\"1\" class=\"dataframe\">\n",
       "  <thead>\n",
       "    <tr style=\"text-align: right;\">\n",
       "      <th></th>\n",
       "      <th>Close</th>\n",
       "    </tr>\n",
       "    <tr>\n",
       "      <th>Date</th>\n",
       "      <th></th>\n",
       "    </tr>\n",
       "  </thead>\n",
       "  <tbody>\n",
       "    <tr>\n",
       "      <th>2019-03-01</th>\n",
       "      <td>2.90</td>\n",
       "    </tr>\n",
       "    <tr>\n",
       "      <th>2019-03-04</th>\n",
       "      <td>2.92</td>\n",
       "    </tr>\n",
       "    <tr>\n",
       "      <th>2019-03-05</th>\n",
       "      <td>2.95</td>\n",
       "    </tr>\n",
       "    <tr>\n",
       "      <th>2019-03-06</th>\n",
       "      <td>2.83</td>\n",
       "    </tr>\n",
       "    <tr>\n",
       "      <th>2019-03-07</th>\n",
       "      <td>2.88</td>\n",
       "    </tr>\n",
       "  </tbody>\n",
       "</table>\n",
       "</div>"
      ],
      "text/plain": [
       "            Close\n",
       "Date             \n",
       "2019-03-01   2.90\n",
       "2019-03-04   2.92\n",
       "2019-03-05   2.95\n",
       "2019-03-06   2.83\n",
       "2019-03-07   2.88"
      ]
     },
     "execution_count": 24,
     "metadata": {},
     "output_type": "execute_result"
    }
   ],
   "source": [
    "csvfile = Path('03-Class-Activities_03-Python-Pandas_3.3-Risk-and-Returns-Over-Time_06-Indexing-Fever_Resources_bombardier_stock_data.csv')\n",
    "bbd_df =  pd.read_csv(csvfile, parse_dates=True, index_col='Date', infer_datetime_format=True)\n",
    "bbd_df.head()"
   ]
  },
  {
   "cell_type": "code",
   "execution_count": 26,
   "metadata": {},
   "outputs": [
    {
     "name": "stdout",
     "output_type": "stream",
     "text": [
      "<class 'pandas.core.frame.DataFrame'>\n",
      "DatetimeIndex: 63 entries, 2019-03-01 to 2019-05-30\n",
      "Data columns (total 1 columns):\n",
      " #   Column  Non-Null Count  Dtype  \n",
      "---  ------  --------------  -----  \n",
      " 0   Close   63 non-null     float64\n",
      "dtypes: float64(1)\n",
      "memory usage: 1008.0 bytes\n"
     ]
    }
   ],
   "source": [
    "bbd_df.info()"
   ]
  },
  {
   "cell_type": "code",
   "execution_count": 33,
   "metadata": {},
   "outputs": [
    {
     "data": {
      "text/html": [
       "<div>\n",
       "<style scoped>\n",
       "    .dataframe tbody tr th:only-of-type {\n",
       "        vertical-align: middle;\n",
       "    }\n",
       "\n",
       "    .dataframe tbody tr th {\n",
       "        vertical-align: top;\n",
       "    }\n",
       "\n",
       "    .dataframe thead th {\n",
       "        text-align: right;\n",
       "    }\n",
       "</style>\n",
       "<table border=\"1\" class=\"dataframe\">\n",
       "  <thead>\n",
       "    <tr style=\"text-align: right;\">\n",
       "      <th></th>\n",
       "      <th></th>\n",
       "      <th>Close</th>\n",
       "    </tr>\n",
       "    <tr>\n",
       "      <th>Date</th>\n",
       "      <th>Date</th>\n",
       "      <th></th>\n",
       "    </tr>\n",
       "  </thead>\n",
       "  <tbody>\n",
       "    <tr>\n",
       "      <th rowspan=\"3\" valign=\"top\">2019</th>\n",
       "      <th>3</th>\n",
       "      <td>2.90</td>\n",
       "    </tr>\n",
       "    <tr>\n",
       "      <th>4</th>\n",
       "      <td>2.68</td>\n",
       "    </tr>\n",
       "    <tr>\n",
       "      <th>5</th>\n",
       "      <td>2.34</td>\n",
       "    </tr>\n",
       "  </tbody>\n",
       "</table>\n",
       "</div>"
      ],
      "text/plain": [
       "           Close\n",
       "Date Date       \n",
       "2019 3      2.90\n",
       "     4      2.68\n",
       "     5      2.34"
      ]
     },
     "execution_count": 33,
     "metadata": {},
     "output_type": "execute_result"
    }
   ],
   "source": [
    "bbd_df_grp = bbd_df.groupby([bbd_df.index.year, bbd_df.index.month]).first()\n",
    "bbd_df_grp.head()"
   ]
  },
  {
   "cell_type": "code",
   "execution_count": 36,
   "metadata": {},
   "outputs": [
    {
     "data": {
      "text/plain": [
       "Close    2.34\n",
       "Name: (2019, 5), dtype: float64"
      ]
     },
     "execution_count": 36,
     "metadata": {},
     "output_type": "execute_result"
    }
   ],
   "source": [
    "bbd_df_close = bbd_df_grp.loc[2019,5]\n",
    "bbd_df_close"
   ]
  },
  {
   "cell_type": "code",
   "execution_count": 41,
   "metadata": {},
   "outputs": [
    {
     "data": {
      "text/plain": [
       "Close    2.64\n",
       "dtype: float64"
      ]
     },
     "execution_count": 41,
     "metadata": {},
     "output_type": "execute_result"
    }
   ],
   "source": [
    "bbd_df_close_mean = bbd_df_grp.loc[2019].mean()\n",
    "bbd_df_close_mean"
   ]
  },
  {
   "cell_type": "code",
   "execution_count": 42,
   "metadata": {},
   "outputs": [
    {
     "data": {
      "text/plain": [
       "2.64"
      ]
     },
     "execution_count": 42,
     "metadata": {},
     "output_type": "execute_result"
    }
   ],
   "source": [
    "bbd_df_close_mean.sum()"
   ]
  },
  {
   "cell_type": "code",
   "execution_count": 68,
   "metadata": {},
   "outputs": [],
   "source": [
    "import pandas as pd\n",
    "from pathlib import Path\n",
    "\n",
    "csvfile_1 = Path('fin_leaders_america.csv')\n",
    "csvfile_2 = Path('fin_leaders_members.csv')\n",
    "csvfile_3 = Path('invstrs_leadership_members.csv')\n",
    "csvfile_4 = Path('invstrs_leadership.csv')\n",
    "\n",
    "fin_leaders_dues = pd.read_csv(csvfile_1)\n",
    "investor_leaders_dues = pd.read_csv(csvfile_2)\n",
    "fin_leaders_mbr_status = pd.read_csv(csvfile_3)\n",
    "investors_leadership_mbr_status = pd.read_csv(csvfile_4)"
   ]
  },
  {
   "cell_type": "code",
   "execution_count": 69,
   "metadata": {},
   "outputs": [
    {
     "data": {
      "text/html": [
       "<div>\n",
       "<style scoped>\n",
       "    .dataframe tbody tr th:only-of-type {\n",
       "        vertical-align: middle;\n",
       "    }\n",
       "\n",
       "    .dataframe tbody tr th {\n",
       "        vertical-align: top;\n",
       "    }\n",
       "\n",
       "    .dataframe thead th {\n",
       "        text-align: right;\n",
       "    }\n",
       "</style>\n",
       "<table border=\"1\" class=\"dataframe\">\n",
       "  <thead>\n",
       "    <tr style=\"text-align: right;\">\n",
       "      <th></th>\n",
       "      <th>MemberName</th>\n",
       "    </tr>\n",
       "  </thead>\n",
       "  <tbody>\n",
       "    <tr>\n",
       "      <th>0</th>\n",
       "      <td>Warren Buffet</td>\n",
       "    </tr>\n",
       "    <tr>\n",
       "      <th>1</th>\n",
       "      <td>Janet Yellen</td>\n",
       "    </tr>\n",
       "    <tr>\n",
       "      <th>2</th>\n",
       "      <td>Abigail Johnson</td>\n",
       "    </tr>\n",
       "    <tr>\n",
       "      <th>3</th>\n",
       "      <td>Larry Fink</td>\n",
       "    </tr>\n",
       "    <tr>\n",
       "      <th>0</th>\n",
       "      <td>Warren Buffet</td>\n",
       "    </tr>\n",
       "    <tr>\n",
       "      <th>1</th>\n",
       "      <td>Janet Yellen</td>\n",
       "    </tr>\n",
       "    <tr>\n",
       "      <th>2</th>\n",
       "      <td>Abigail Johnson</td>\n",
       "    </tr>\n",
       "    <tr>\n",
       "      <th>3</th>\n",
       "      <td>Larry Fink</td>\n",
       "    </tr>\n",
       "  </tbody>\n",
       "</table>\n",
       "</div>"
      ],
      "text/plain": [
       "        MemberName\n",
       "0    Warren Buffet\n",
       "1     Janet Yellen\n",
       "2  Abigail Johnson\n",
       "3       Larry Fink\n",
       "0    Warren Buffet\n",
       "1     Janet Yellen\n",
       "2  Abigail Johnson\n",
       "3       Larry Fink"
      ]
     },
     "execution_count": 69,
     "metadata": {},
     "output_type": "execute_result"
    }
   ],
   "source": [
    "leader_dues = pd.concat([fin_leaders_dues, investor_leaders_dues], axis='rows', join='inner')\n",
    "leader_dues"
   ]
  },
  {
   "cell_type": "code",
   "execution_count": 74,
   "metadata": {},
   "outputs": [
    {
     "data": {
      "text/html": [
       "<div>\n",
       "<style scoped>\n",
       "    .dataframe tbody tr th:only-of-type {\n",
       "        vertical-align: middle;\n",
       "    }\n",
       "\n",
       "    .dataframe tbody tr th {\n",
       "        vertical-align: top;\n",
       "    }\n",
       "\n",
       "    .dataframe thead th {\n",
       "        text-align: right;\n",
       "    }\n",
       "</style>\n",
       "<table border=\"1\" class=\"dataframe\">\n",
       "  <thead>\n",
       "    <tr style=\"text-align: right;\">\n",
       "      <th></th>\n",
       "      <th>MemberName</th>\n",
       "      <th>MembershipStatus</th>\n",
       "      <th>MemberName</th>\n",
       "      <th>DuesOwed</th>\n",
       "      <th>DuesPaid</th>\n",
       "    </tr>\n",
       "  </thead>\n",
       "  <tbody>\n",
       "    <tr>\n",
       "      <th>0</th>\n",
       "      <td>Warren Buffet</td>\n",
       "      <td>Good Standing</td>\n",
       "      <td>Warren Buffet</td>\n",
       "      <td>0</td>\n",
       "      <td>2500</td>\n",
       "    </tr>\n",
       "    <tr>\n",
       "      <th>1</th>\n",
       "      <td>Janet Yellen</td>\n",
       "      <td>Good Standing</td>\n",
       "      <td>Janet Yellen</td>\n",
       "      <td>100</td>\n",
       "      <td>2400</td>\n",
       "    </tr>\n",
       "    <tr>\n",
       "      <th>2</th>\n",
       "      <td>Abigail Johnson</td>\n",
       "      <td>Good Standing</td>\n",
       "      <td>Abigail Johnson</td>\n",
       "      <td>0</td>\n",
       "      <td>2500</td>\n",
       "    </tr>\n",
       "    <tr>\n",
       "      <th>3</th>\n",
       "      <td>Larry Fink</td>\n",
       "      <td>Delinquent</td>\n",
       "      <td>Larry Fink</td>\n",
       "      <td>2500</td>\n",
       "      <td>0</td>\n",
       "    </tr>\n",
       "    <tr>\n",
       "      <th>4</th>\n",
       "      <td>Mario Draghi</td>\n",
       "      <td>Delinquent</td>\n",
       "      <td>Mario Draghi</td>\n",
       "      <td>2500</td>\n",
       "      <td>0</td>\n",
       "    </tr>\n",
       "    <tr>\n",
       "      <th>5</th>\n",
       "      <td>Michael Bloomberg</td>\n",
       "      <td>Delinquent</td>\n",
       "      <td>Michael Bloomberg</td>\n",
       "      <td>2500</td>\n",
       "      <td>0</td>\n",
       "    </tr>\n",
       "    <tr>\n",
       "      <th>6</th>\n",
       "      <td>Ray Dalio</td>\n",
       "      <td>Good Standing</td>\n",
       "      <td>Ray Dalio</td>\n",
       "      <td>0</td>\n",
       "      <td>2500</td>\n",
       "    </tr>\n",
       "  </tbody>\n",
       "</table>\n",
       "</div>"
      ],
      "text/plain": [
       "          MemberName MembershipStatus         MemberName  DuesOwed  DuesPaid\n",
       "0      Warren Buffet    Good Standing      Warren Buffet         0      2500\n",
       "1       Janet Yellen    Good Standing       Janet Yellen       100      2400\n",
       "2    Abigail Johnson    Good Standing    Abigail Johnson         0      2500\n",
       "3         Larry Fink       Delinquent         Larry Fink      2500         0\n",
       "4       Mario Draghi       Delinquent       Mario Draghi      2500         0\n",
       "5  Michael Bloomberg       Delinquent  Michael Bloomberg      2500         0\n",
       "6          Ray Dalio    Good Standing          Ray Dalio         0      2500"
      ]
     },
     "execution_count": 74,
     "metadata": {},
     "output_type": "execute_result"
    }
   ],
   "source": [
    "investor_group = pd.concat([fin_leaders_mbr_status, investors_leadership_mbr_status], axis=1, join='inner')\n",
    "investor_group"
   ]
  },
  {
   "cell_type": "code",
   "execution_count": 75,
   "metadata": {},
   "outputs": [
    {
     "data": {
      "text/html": [
       "<div>\n",
       "<style scoped>\n",
       "    .dataframe tbody tr th:only-of-type {\n",
       "        vertical-align: middle;\n",
       "    }\n",
       "\n",
       "    .dataframe tbody tr th {\n",
       "        vertical-align: top;\n",
       "    }\n",
       "\n",
       "    .dataframe thead th {\n",
       "        text-align: right;\n",
       "    }\n",
       "</style>\n",
       "<table border=\"1\" class=\"dataframe\">\n",
       "  <thead>\n",
       "    <tr style=\"text-align: right;\">\n",
       "      <th></th>\n",
       "      <th>MemberName</th>\n",
       "      <th>MemberName</th>\n",
       "      <th>MembershipStatus</th>\n",
       "      <th>MemberName</th>\n",
       "      <th>DuesOwed</th>\n",
       "      <th>DuesPaid</th>\n",
       "    </tr>\n",
       "  </thead>\n",
       "  <tbody>\n",
       "    <tr>\n",
       "      <th>0</th>\n",
       "      <td>Warren Buffet</td>\n",
       "      <td>Warren Buffet</td>\n",
       "      <td>Good Standing</td>\n",
       "      <td>Warren Buffet</td>\n",
       "      <td>0</td>\n",
       "      <td>2500</td>\n",
       "    </tr>\n",
       "    <tr>\n",
       "      <th>1</th>\n",
       "      <td>Janet Yellen</td>\n",
       "      <td>Janet Yellen</td>\n",
       "      <td>Good Standing</td>\n",
       "      <td>Janet Yellen</td>\n",
       "      <td>100</td>\n",
       "      <td>2400</td>\n",
       "    </tr>\n",
       "    <tr>\n",
       "      <th>2</th>\n",
       "      <td>Abigail Johnson</td>\n",
       "      <td>Abigail Johnson</td>\n",
       "      <td>Good Standing</td>\n",
       "      <td>Abigail Johnson</td>\n",
       "      <td>0</td>\n",
       "      <td>2500</td>\n",
       "    </tr>\n",
       "    <tr>\n",
       "      <th>3</th>\n",
       "      <td>Larry Fink</td>\n",
       "      <td>Larry Fink</td>\n",
       "      <td>Delinquent</td>\n",
       "      <td>Larry Fink</td>\n",
       "      <td>2500</td>\n",
       "      <td>0</td>\n",
       "    </tr>\n",
       "    <tr>\n",
       "      <th>0</th>\n",
       "      <td>Warren Buffet</td>\n",
       "      <td>Warren Buffet</td>\n",
       "      <td>Good Standing</td>\n",
       "      <td>Warren Buffet</td>\n",
       "      <td>0</td>\n",
       "      <td>2500</td>\n",
       "    </tr>\n",
       "    <tr>\n",
       "      <th>1</th>\n",
       "      <td>Janet Yellen</td>\n",
       "      <td>Janet Yellen</td>\n",
       "      <td>Good Standing</td>\n",
       "      <td>Janet Yellen</td>\n",
       "      <td>100</td>\n",
       "      <td>2400</td>\n",
       "    </tr>\n",
       "    <tr>\n",
       "      <th>2</th>\n",
       "      <td>Abigail Johnson</td>\n",
       "      <td>Abigail Johnson</td>\n",
       "      <td>Good Standing</td>\n",
       "      <td>Abigail Johnson</td>\n",
       "      <td>0</td>\n",
       "      <td>2500</td>\n",
       "    </tr>\n",
       "    <tr>\n",
       "      <th>3</th>\n",
       "      <td>Larry Fink</td>\n",
       "      <td>Larry Fink</td>\n",
       "      <td>Delinquent</td>\n",
       "      <td>Larry Fink</td>\n",
       "      <td>2500</td>\n",
       "      <td>0</td>\n",
       "    </tr>\n",
       "  </tbody>\n",
       "</table>\n",
       "</div>"
      ],
      "text/plain": [
       "        MemberName       MemberName MembershipStatus       MemberName  \\\n",
       "0    Warren Buffet    Warren Buffet    Good Standing    Warren Buffet   \n",
       "1     Janet Yellen     Janet Yellen    Good Standing     Janet Yellen   \n",
       "2  Abigail Johnson  Abigail Johnson    Good Standing  Abigail Johnson   \n",
       "3       Larry Fink       Larry Fink       Delinquent       Larry Fink   \n",
       "0    Warren Buffet    Warren Buffet    Good Standing    Warren Buffet   \n",
       "1     Janet Yellen     Janet Yellen    Good Standing     Janet Yellen   \n",
       "2  Abigail Johnson  Abigail Johnson    Good Standing  Abigail Johnson   \n",
       "3       Larry Fink       Larry Fink       Delinquent       Larry Fink   \n",
       "\n",
       "   DuesOwed  DuesPaid  \n",
       "0         0      2500  \n",
       "1       100      2400  \n",
       "2         0      2500  \n",
       "3      2500         0  \n",
       "0         0      2500  \n",
       "1       100      2400  \n",
       "2         0      2500  \n",
       "3      2500         0  "
      ]
     },
     "execution_count": 75,
     "metadata": {},
     "output_type": "execute_result"
    }
   ],
   "source": [
    "total_concat = pd.concat([leader_dues, investor_group], axis=1, join='inner')\n",
    "total_concat"
   ]
  },
  {
   "cell_type": "code",
   "execution_count": 83,
   "metadata": {},
   "outputs": [
    {
     "data": {
      "text/html": [
       "<div>\n",
       "<style scoped>\n",
       "    .dataframe tbody tr th:only-of-type {\n",
       "        vertical-align: middle;\n",
       "    }\n",
       "\n",
       "    .dataframe tbody tr th {\n",
       "        vertical-align: top;\n",
       "    }\n",
       "\n",
       "    .dataframe thead th {\n",
       "        text-align: right;\n",
       "    }\n",
       "</style>\n",
       "<table border=\"1\" class=\"dataframe\">\n",
       "  <thead>\n",
       "    <tr style=\"text-align: right;\">\n",
       "      <th></th>\n",
       "      <th>MemberName</th>\n",
       "      <th>MemberName</th>\n",
       "      <th>MembershipStatus</th>\n",
       "      <th>MemberName</th>\n",
       "      <th>DuesOwed</th>\n",
       "      <th>DuesPaid</th>\n",
       "    </tr>\n",
       "  </thead>\n",
       "  <tbody>\n",
       "    <tr>\n",
       "      <th>0</th>\n",
       "      <td>Warren Buffet</td>\n",
       "      <td>Warren Buffet</td>\n",
       "      <td>Good Standing</td>\n",
       "      <td>Warren Buffet</td>\n",
       "      <td>0</td>\n",
       "      <td>2500</td>\n",
       "    </tr>\n",
       "    <tr>\n",
       "      <th>1</th>\n",
       "      <td>Janet Yellen</td>\n",
       "      <td>Janet Yellen</td>\n",
       "      <td>Good Standing</td>\n",
       "      <td>Janet Yellen</td>\n",
       "      <td>100</td>\n",
       "      <td>2400</td>\n",
       "    </tr>\n",
       "    <tr>\n",
       "      <th>2</th>\n",
       "      <td>Abigail Johnson</td>\n",
       "      <td>Abigail Johnson</td>\n",
       "      <td>Good Standing</td>\n",
       "      <td>Abigail Johnson</td>\n",
       "      <td>0</td>\n",
       "      <td>2500</td>\n",
       "    </tr>\n",
       "    <tr>\n",
       "      <th>3</th>\n",
       "      <td>Larry Fink</td>\n",
       "      <td>Larry Fink</td>\n",
       "      <td>Delinquent</td>\n",
       "      <td>Larry Fink</td>\n",
       "      <td>2500</td>\n",
       "      <td>0</td>\n",
       "    </tr>\n",
       "  </tbody>\n",
       "</table>\n",
       "</div>"
      ],
      "text/plain": [
       "        MemberName       MemberName MembershipStatus       MemberName  \\\n",
       "0    Warren Buffet    Warren Buffet    Good Standing    Warren Buffet   \n",
       "1     Janet Yellen     Janet Yellen    Good Standing     Janet Yellen   \n",
       "2  Abigail Johnson  Abigail Johnson    Good Standing  Abigail Johnson   \n",
       "3       Larry Fink       Larry Fink       Delinquent       Larry Fink   \n",
       "\n",
       "   DuesOwed  DuesPaid  \n",
       "0         0      2500  \n",
       "1       100      2400  \n",
       "2         0      2500  \n",
       "3      2500         0  "
      ]
     },
     "execution_count": 83,
     "metadata": {},
     "output_type": "execute_result"
    }
   ],
   "source": [
    "total_concat.drop_duplicates()"
   ]
  },
  {
   "cell_type": "code",
   "execution_count": null,
   "metadata": {},
   "outputs": [],
   "source": []
  },
  {
   "cell_type": "code",
   "execution_count": null,
   "metadata": {},
   "outputs": [],
   "source": []
  }
 ],
 "metadata": {
  "kernelspec": {
   "display_name": "Python 3",
   "language": "python",
   "name": "python3"
  },
  "language_info": {
   "codemirror_mode": {
    "name": "ipython",
    "version": 3
   },
   "file_extension": ".py",
   "mimetype": "text/x-python",
   "name": "python",
   "nbconvert_exporter": "python",
   "pygments_lexer": "ipython3",
   "version": "3.8.3"
  }
 },
 "nbformat": 4,
 "nbformat_minor": 4
}
